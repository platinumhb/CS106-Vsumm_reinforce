{
 "cells": [
  {
   "cell_type": "markdown",
   "metadata": {},
   "source": [
    "## Giới thiệu\n",
    "\n",
    "Đây là file hướng dẫn, made by HB, chủ yếu dùng để giúp mọi người có thể chạy lại phần implement cái paper **Deep Reinforcement Learning for Unsupervised Video Summarization with\n",
    "Diversity-Representativeness Reward** một cách dễ dàng nhất.\n",
    "\n",
    "**Note**: Trong repo này có chỉnh sửa, thêm, bớt một vài thứ. Ví dụ như:\n",
    "\n",
    "- Thêm file requirements.txt\n",
    "- Phiên bản gốc yêu cầu **Pytorch (v0.4.0)** và **Python 2.7**. Nhưng ở đây mình chạy **Pytorch (v2.1.1+cu121)** và **Python 3.10.7**, hiện tại vẫn ổn nha.\n",
    "- Mấy file code cũ có thể code theo phiên bản Python cũ hơn, nên nó sẽ bị mắc một số lỗi (VD như print không có đóng mở ngoặc), nên tui cũng có điều chỉnh sương sương lại mấy file code."
   ]
  },
  {
   "cell_type": "markdown",
   "metadata": {},
   "source": [
    "## Bắt đầu chạy"
   ]
  },
  {
   "cell_type": "markdown",
   "metadata": {},
   "source": [
    "### Clone repository"
   ]
  },
  {
   "cell_type": "code",
   "execution_count": null,
   "metadata": {},
   "outputs": [],
   "source": [
    "!git clone https://github.com/KaiyangZhou/vsumm-reinforce\n",
    "%cd vsumm-reinforce"
   ]
  },
  {
   "cell_type": "markdown",
   "metadata": {},
   "source": [
    "### Dataset"
   ]
  },
  {
   "cell_type": "markdown",
   "metadata": {},
   "source": [
    "Do đường link cũ bị chết rồi, nên chịu khó tải thủ công bộ dataset tại [đây](https://drive.google.com/file/d/1Bf0beMN_ieiM3JpprghaoOwQe9QJIyAN/view). Tải xong thì giải nén nó vào thư mục hiện tại, tạo thành folder **datasets**.\n",
    "\n",
    "Bộ dữ liệu tải xong sẽ gồm có 4 file chính.\n",
    "\n",
    "- **eccv16_dataset_summe_google_pool5.h5**: Bộ dữ liệu này được sử dụng trong hội nghị ECCV 2016. Nó chứa các video được tổng hợp từ nhiều nguồn khác nhau. Các video đã được trích xuất tính năng bằng mô hình GoogleNet. Điểm đặc biệt của bộ dữ liệu này là nó bao gồm các điểm quan trọng thực sự, tức là điểm số được gán bởi người dùng để chỉ ra mức độ quan trọng của mỗi khung hình. Ngoài ra, nó còn chứa tóm tắt được cung cấp bởi người dùng và các điểm chuyển đổi.\n",
    "\n",
    "- **eccv16_dataset_tvsum_google_pool5.h5**: Tương tự như bộ dữ liệu SUMMe, bộ dữ liệu này cũng được sử dụng trong ECCV 2016. Nó chứa các video từ TVSum dataset, một tập dữ liệu phổ biến trong lĩnh vực tóm tắt video. Các video đã được trích xuất tính năng bằng mô hình GoogleNet. Bộ dữ liệu cung cấp các điểm quan trọng thực sự, tóm tắt người dùng và các điểm chuyển đổi.\n",
    "\n",
    "- **eccv16_dataset_ovp_google_pool5.h5**: Bộ dữ liệu này chứa các video từ Open Video Project (OVP), một kho tài nguyên video công cộng rất lớn. Các video đã được trích xuất tính năng bằng mô hình GoogleNet. Tương tự như các bộ dữ liệu trước đó, nó cũng cung cấp các điểm quan trọng thực sự.\n",
    "\n",
    "- **eccv16_dataset_youtube_google_pool5.h5**: Bộ dữ liệu này bao gồm các video từ YouTube, một nguồn tài nguyên phong phú với nhiều loại video khác nhau. Các video đã được trích xuất tính năng bằng mô hình GoogleNet và cũng cung cấp các điểm quan trọng thực sự."
   ]
  },
  {
   "cell_type": "markdown",
   "metadata": {},
   "source": [
    "Split dataset"
   ]
  },
  {
   "cell_type": "markdown",
   "metadata": {},
   "source": [
    "python create_split.py -d datasets/eccv16_dataset_summe_google_pool5.h5 --save-dir datasets --save-name summe_splits  --num-splits 5"
   ]
  },
  {
   "cell_type": "markdown",
   "metadata": {},
   "source": [
    "Sau khi chạy lệnh trên, bộ dữ liệu được chia ngẫu nhiên thành 5 phần, được lưu dưới dạng tệp JSON tại *datasets\\summe_splits.json*.\n",
    "\n",
    "Các mã huấn luyện và kiểm tra được viết trong tệp main.py. Để xem các đối số chi tiết, vui lòng chạy lệnh python main.py -h."
   ]
  },
  {
   "cell_type": "markdown",
   "metadata": {},
   "source": [
    "### Cài thư viện"
   ]
  },
  {
   "cell_type": "markdown",
   "metadata": {},
   "source": [
    "!pip install -r requirements.txt"
   ]
  },
  {
   "cell_type": "markdown",
   "metadata": {},
   "source": [
    "### Train"
   ]
  },
  {
   "cell_type": "markdown",
   "metadata": {},
   "source": [
    "Ở đây train trên bộ **eccv16_dataset_summe_google_pool5.h5** với **60 epochs**, xong nó sẽ lưu vô **log/summe-split0**.\n",
    "\n",
    "**Note**: Ở đây tui train sẵn rồi nên có file check point là **log_train.txt**, **model_epoch60.pth.tar** và **rewards.json**"
   ]
  },
  {
   "cell_type": "code",
   "execution_count": 10,
   "metadata": {},
   "outputs": [
    {
     "name": "stdout",
     "output_type": "stream",
     "text": [
      "==========\n",
      "Args:Namespace(dataset='datasets/eccv16_dataset_summe_google_pool5.h5', split='datasets/summe_splits.json', split_id=0, metric='summe', input_dim=1024, hidden_dim=256, num_layers=1, rnn_cell='lstm', lr=1e-05, weight_decay=1e-05, max_epoch=60, stepsize=30, gamma=0.1, num_episode=5, beta=0.01, seed=1, gpu='0', use_cpu=False, evaluate=False, save_dir='log/summe-split0', resume='', verbose=True, save_results=False)\n",
      "==========\n",
      "Currently using GPU 0\n",
      "Initialize dataset datasets/eccv16_dataset_summe_google_pool5.h5\n",
      "# total videos 25. # train videos 20. # test videos 5\n",
      "Initialize model\n",
      "Model size: 2.62605M\n",
      "==> Start training\n",
      "epoch 1/60\t reward 0.8945889407396317\t\n",
      "epoch 2/60\t reward 0.89391881108284\t\n",
      "epoch 3/60\t reward 0.8949336183071137\t\n",
      "epoch 4/60\t reward 0.8948247295618058\t\n",
      "epoch 5/60\t reward 0.8947845244407653\t\n",
      "epoch 6/60\t reward 0.8956783503293989\t\n",
      "epoch 7/60\t reward 0.8946591955423356\t\n",
      "epoch 8/60\t reward 0.8947719633579254\t\n",
      "epoch 9/60\t reward 0.8945810306072234\t\n",
      "epoch 10/60\t reward 0.8948657238483427\t\n",
      "epoch 11/60\t reward 0.8944955581426621\t\n",
      "epoch 12/60\t reward 0.894877000451088\t\n",
      "epoch 13/60\t reward 0.8938461434841155\t\n",
      "epoch 14/60\t reward 0.8952414965629576\t\n",
      "epoch 15/60\t reward 0.8954853796958926\t\n",
      "epoch 16/60\t reward 0.8957361644506454\t\n",
      "epoch 17/60\t reward 0.8945803993940353\t\n",
      "epoch 18/60\t reward 0.895650617480278\t\n",
      "epoch 19/60\t reward 0.8936437237262724\t\n",
      "epoch 20/60\t reward 0.8964228409528732\t\n",
      "epoch 21/60\t reward 0.8955009633302689\t\n",
      "epoch 22/60\t reward 0.8964316368103029\t\n",
      "epoch 23/60\t reward 0.8942339050769805\t\n",
      "epoch 24/60\t reward 0.8943188172578813\t\n",
      "epoch 25/60\t reward 0.8946574324369431\t\n",
      "epoch 26/60\t reward 0.895083560347557\t\n",
      "epoch 27/60\t reward 0.8959440481662749\t\n",
      "epoch 28/60\t reward 0.894626190662384\t\n",
      "epoch 29/60\t reward 0.8945700430870056\t\n",
      "epoch 30/60\t reward 0.894791620373726\t\n",
      "epoch 31/60\t reward 0.8946698063611984\t\n",
      "epoch 32/60\t reward 0.8957760679721831\t\n",
      "epoch 33/60\t reward 0.894639049768448\t\n",
      "epoch 34/60\t reward 0.8962940323352813\t\n",
      "epoch 35/60\t reward 0.8950022786855698\t\n",
      "epoch 36/60\t reward 0.8960219186544418\t\n",
      "epoch 37/60\t reward 0.8949067419767379\t\n",
      "epoch 38/60\t reward 0.8951348650455475\t\n",
      "epoch 39/60\t reward 0.8961967492103579\t\n",
      "epoch 40/60\t reward 0.8952547073364258\t\n",
      "epoch 41/60\t reward 0.8956623226404188\t\n",
      "epoch 42/60\t reward 0.8964628148078919\t\n",
      "epoch 43/60\t reward 0.8950471979379655\t\n",
      "epoch 44/60\t reward 0.895918811559677\t\n",
      "epoch 45/60\t reward 0.8955059874057769\t\n",
      "epoch 46/60\t reward 0.8947110080718994\t\n",
      "epoch 47/60\t reward 0.8961547011137009\t\n",
      "epoch 48/60\t reward 0.8951746660470962\t\n",
      "epoch 49/60\t reward 0.8957264596223832\t\n",
      "epoch 50/60\t reward 0.8953272330760956\t\n",
      "epoch 51/60\t reward 0.8955364185571671\t\n",
      "epoch 52/60\t reward 0.8948090034723281\t\n",
      "epoch 53/60\t reward 0.8952293372154235\t\n",
      "epoch 54/60\t reward 0.8961673700809479\t\n",
      "epoch 55/60\t reward 0.8966235315799714\t\n",
      "epoch 56/60\t reward 0.8941378819942475\t\n",
      "epoch 57/60\t reward 0.8960005670785902\t\n",
      "epoch 58/60\t reward 0.8958739954233168\t\n",
      "epoch 59/60\t reward 0.8965480881929396\t\n",
      "epoch 60/60\t reward 0.894870971441269\t\n",
      "==> Test\n",
      "---  --------  -------\n",
      "No.  Video     F-score\n",
      "1    video_10  26.5%\n",
      "2    video_13  50.2%\n",
      "3    video_24  27.6%\n",
      "4    video_6   21.0%\n",
      "5    video_8   49.4%\n",
      "---  --------  -------\n",
      "Average F-score 35.0%\n",
      "Finished. Total elapsed time (h:m:s): 0:00:25\n",
      "Model saved to log/summe-split0\\model_epoch60.pth.tar\n"
     ]
    },
    {
     "name": "stderr",
     "output_type": "stream",
     "text": [
      "d:\\STUDYING\\CS106\\Project\\pytorch-vsumm-reinforce\\rewards.py:47: UserWarning: This overload of addmm_ is deprecated:\n",
      "\taddmm_(Number beta, Number alpha, Tensor mat1, Tensor mat2)\n",
      "Consider using one of the following signatures instead:\n",
      "\taddmm_(Tensor mat1, Tensor mat2, *, Number beta, Number alpha) (Triggered internally at ..\\torch\\csrc\\utils\\python_arg_parser.cpp:1519.)\n",
      "  dist_mat.addmm_(1, -2, _seq, _seq.t())\n"
     ]
    }
   ],
   "source": [
    "!python main.py -d datasets/eccv16_dataset_summe_google_pool5.h5 -s datasets/summe_splits.json -m summe --gpu 0 --save-dir log/summe-split0 --split-id 0 --verbose"
   ]
  },
  {
   "cell_type": "markdown",
   "metadata": {},
   "source": [
    "Sau khi train thì những kết quả nhận được sẽ nằm trong thư mục **log**"
   ]
  },
  {
   "cell_type": "markdown",
   "metadata": {},
   "source": [
    "### Test"
   ]
  },
  {
   "cell_type": "markdown",
   "metadata": {},
   "source": [
    "Train xong thì phải test (trên cùng bộ eccv16_dataset_summe_google_pool5.h5 nhe, hoặc lấy bộ khác cũng được). \n",
    "Note: Nếu thâm số **--save-results** được bật, kết quả đầu ra sẽ được lưu vào tệp **results.h5** trong cùng thư mục được chỉ định bởi **--save-dir**.\n",
    "\n",
    "Xong thì nó ra thêm cái file **log_test.txt** và **result.h5**"
   ]
  },
  {
   "cell_type": "code",
   "execution_count": 12,
   "metadata": {},
   "outputs": [
    {
     "name": "stdout",
     "output_type": "stream",
     "text": [
      "==========\n",
      "Args:Namespace(dataset='datasets/eccv16_dataset_summe_google_pool5.h5', split='datasets/summe_splits.json', split_id=0, metric='summe', input_dim=1024, hidden_dim=256, num_layers=1, rnn_cell='lstm', lr=1e-05, weight_decay=1e-05, max_epoch=60, stepsize=30, gamma=0.1, num_episode=5, beta=0.01, seed=1, gpu='0', use_cpu=False, evaluate=True, save_dir='log/summe-split0', resume='log/summe-split0/model_epoch60.pth.tar', verbose=True, save_results=True)\n",
      "==========\n",
      "Currently using GPU 0\n",
      "Initialize dataset datasets/eccv16_dataset_summe_google_pool5.h5\n",
      "# total videos 25. # train videos 20. # test videos 5\n",
      "Initialize model\n",
      "Model size: 2.62605M\n",
      "Loading checkpoint from 'log/summe-split0/model_epoch60.pth.tar'\n",
      "Evaluate only\n",
      "==> Test\n",
      "---  --------  -------\n",
      "No.  Video     F-score\n",
      "1    video_10  26.5%\n",
      "2    video_13  50.2%\n",
      "3    video_24  27.6%\n",
      "4    video_6   21.0%\n",
      "5    video_8   49.4%\n",
      "---  --------  -------\n",
      "Average F-score 35.0%\n"
     ]
    }
   ],
   "source": [
    "!python main.py -d datasets/eccv16_dataset_summe_google_pool5.h5 -s datasets/summe_splits.json -m summe --gpu 0 --save-dir log/summe-split0 --split-id 0 --evaluate --resume log/summe-split0/model_epoch60.pth.tar --verbose --save-results"
   ]
  },
  {
   "cell_type": "markdown",
   "metadata": {},
   "source": [
    " Để hiển thị score-vs-gtscore, thực hiện:"
   ]
  },
  {
   "cell_type": "code",
   "execution_count": 13,
   "metadata": {},
   "outputs": [
    {
     "name": "stdout",
     "output_type": "stream",
     "text": [
      "Done video video_10. # frames 9721.\n",
      "Done video video_13. # frames 3187.\n",
      "Done video video_24. # frames 2574.\n",
      "Done video video_6. # frames 5075.\n",
      "Done video video_8. # frames 1286.\n"
     ]
    }
   ],
   "source": [
    "!python visualize_results.py -p log/summe-split0/result.h5"
   ]
  },
  {
   "cell_type": "markdown",
   "metadata": {},
   "source": [
    "### Plot"
   ]
  },
  {
   "cell_type": "markdown",
   "metadata": {},
   "source": [
    "Code dưới dùng để plot những reward nhận được tại mỗi epoch. Sử dụng **parse_log.py** để plot các average rewards. Kết quả vẫn lưu chung chỗ với **log_train.txt**"
   ]
  },
  {
   "cell_type": "code",
   "execution_count": 15,
   "metadata": {},
   "outputs": [],
   "source": [
    "!python parse_log.py -p log/summe-split0/log_train.txt"
   ]
  },
  {
   "cell_type": "markdown",
   "metadata": {},
   "source": [
    "Nếu bạn muốn plot epoch-reward curve theo epoch cho một số video cụ thể (sửa số cuối), thực hiện:"
   ]
  },
  {
   "cell_type": "code",
   "execution_count": 18,
   "metadata": {},
   "outputs": [],
   "source": [
    "!python parse_json.py -p log/summe-split0/rewards.json -i 0"
   ]
  },
  {
   "cell_type": "markdown",
   "metadata": {},
   "source": [
    "**Note**: Nếu bạn muốn plot epoch-reward curve theo epoch cho tất cả các video huấn luyện, thử với **parse_json.sh**. Sửa lại code tùy nhu cầu."
   ]
  },
  {
   "cell_type": "markdown",
   "metadata": {},
   "source": [
    "### Visualize summary"
   ]
  },
  {
   "cell_type": "markdown",
   "metadata": {},
   "source": [
    "Để thực hiện mấy cái này thì mình cần một công cụ hỗ trợ mới, gọi là **ffmpeg**. Đây là công cụ chuyên dùng để tách video thành frames.\n",
    "\n",
    "Để tải cái này thì vào đường link này: https://www.gyan.dev/ffmpeg/builds/ffmpeg-git-full.7z (nhấn vô tự tải). Khi xong thì giải nén rồi thêm đường dẫn **path_to_ffmpeg\\bin** vào system environment variable path."
   ]
  },
  {
   "cell_type": "markdown",
   "metadata": {},
   "source": [
    "Sau khi xong xuôi thì chạy dòng dưới này, ở đây tui tách một MV của anh Trúc Nhân thành các frame dưới dạng jpg, videos lưu trong **source/videos** thành các frames dưới dạng jpg, tên được đánh số từ **000001.jpg** tăng dần đến hết, lưu trong **source/frames**.\n",
    "\n",
    "**Note**: Hiện tại do số lượng frames quá lớn (cỡ 20000+) nên mọi người tự chạy lại dòng dưới để test nha. Do frames chỉ có một thư mục duy nhất (chưa chia nhỏ) nên mỗi lần chạy video mới mọi người chịu khó xóa hết frames cũ nhe, hay cải tiến cũng được."
   ]
  },
  {
   "cell_type": "code",
   "execution_count": 4,
   "metadata": {},
   "outputs": [
    {
     "name": "stderr",
     "output_type": "stream",
     "text": [
      "ffmpeg version 2024-05-23-git-ece95dc3dc-full_build-www.gyan.dev Copyright (c) 2000-2024 the FFmpeg developers\n",
      "  built with gcc 13.2.0 (Rev5, Built by MSYS2 project)\n",
      "  configuration: --enable-gpl --enable-version3 --enable-static --disable-w32threads --disable-autodetect --enable-fontconfig --enable-iconv --enable-gnutls --enable-libxml2 --enable-gmp --enable-bzlib --enable-lzma --enable-libsnappy --enable-zlib --enable-librist --enable-libsrt --enable-libssh --enable-libzmq --enable-avisynth --enable-libbluray --enable-libcaca --enable-sdl2 --enable-libaribb24 --enable-libaribcaption --enable-libdav1d --enable-libdavs2 --enable-libuavs3d --enable-libxevd --enable-libzvbi --enable-librav1e --enable-libsvtav1 --enable-libwebp --enable-libx264 --enable-libx265 --enable-libxavs2 --enable-libxeve --enable-libxvid --enable-libaom --enable-libjxl --enable-libopenjpeg --enable-libvpx --enable-mediafoundation --enable-libass --enable-frei0r --enable-libfreetype --enable-libfribidi --enable-libharfbuzz --enable-liblensfun --enable-libvidstab --enable-libvmaf --enable-libzimg --enable-amf --enable-cuda-llvm --enable-cuvid --enable-dxva2 --enable-d3d11va --enable-d3d12va --enable-ffnvcodec --enable-libvpl --enable-nvdec --enable-nvenc --enable-vaapi --enable-libshaderc --enable-vulkan --enable-libplacebo --enable-opencl --enable-libcdio --enable-libgme --enable-libmodplug --enable-libopenmpt --enable-libopencore-amrwb --enable-libmp3lame --enable-libshine --enable-libtheora --enable-libtwolame --enable-libvo-amrwbenc --enable-libcodec2 --enable-libilbc --enable-libgsm --enable-libopencore-amrnb --enable-libopus --enable-libspeex --enable-libvorbis --enable-ladspa --enable-libbs2b --enable-libflite --enable-libmysofa --enable-librubberband --enable-libsoxr --enable-chromaprint\n",
      "  libavutil      59. 19.100 / 59. 19.100\n",
      "  libavcodec     61.  5.104 / 61.  5.104\n",
      "  libavformat    61.  3.103 / 61.  3.103\n",
      "  libavdevice    61.  2.100 / 61.  2.100\n",
      "  libavfilter    10.  2.102 / 10.  2.102\n",
      "  libswscale      8.  2.100 /  8.  2.100\n",
      "  libswresample   5.  2.100 /  5.  2.100\n",
      "  libpostproc    58.  2.100 / 58.  2.100\n",
      "Input #0, mov,mp4,m4a,3gp,3g2,mj2, from 'source/videos/Trúc Nhân - Có Không Giữ Mất Đừng Tìm - Official MV - special guest Miu Lê.mp4':\n",
      "  Metadata:\n",
      "    major_brand     : isom\n",
      "    minor_version   : 512\n",
      "    compatible_brands: isomiso2avc1mp41\n",
      "    encoder         : Lavf60.20.100\n",
      "  Duration: 00:06:23.83, start: 0.000000, bitrate: 753 kb/s\n",
      "  Stream #0:0[0x1](und): Video: h264 (Main) (avc1 / 0x31637661), yuv420p(tv, bt709, progressive), 854x480 [SAR 1:1 DAR 427:240], 618 kb/s, 25 fps, 25 tbr, 12800 tbn (default)\n",
      "      Metadata:\n",
      "        handler_name    : VideoHandler\n",
      "        vendor_id       : [0][0][0][0]\n",
      "  Stream #0:1[0x2](eng): Audio: aac (LC) (mp4a / 0x6134706D), 44100 Hz, stereo, fltp, 127 kb/s (default)\n",
      "      Metadata:\n",
      "        handler_name    : ISO Media file produced by Google Inc.\n",
      "        vendor_id       : [0][0][0][0]\n",
      "Stream mapping:\n",
      "  Stream #0:0 -> #0:0 (h264 (native) -> mjpeg (native))\n",
      "Press [q] to stop, [?] for help\n",
      "[swscaler @ 000002abbc182f80] deprecated pixel format used, make sure you did set range correctly\n",
      "Output #0, image2, to 'source/frames/%06d.jpg':\n",
      "  Metadata:\n",
      "    major_brand     : isom\n",
      "    minor_version   : 512\n",
      "    compatible_brands: isomiso2avc1mp41\n",
      "    encoder         : Lavf61.3.103\n",
      "  Stream #0:0(und): Video: mjpeg, yuvj420p(pc, unknown/bt709/bt709, progressive), 854x480 [SAR 1:1 DAR 427:240], q=2-31, 200 kb/s, 60 fps, 60 tbn (default)\n",
      "      Metadata:\n",
      "        handler_name    : VideoHandler\n",
      "        vendor_id       : [0][0][0][0]\n",
      "        encoder         : Lavc61.5.104 mjpeg\n",
      "      Side data:\n",
      "        cpb: bitrate max/min/avg: 0/0/200000 buffer size: 0 vbv_delay: N/A\n",
      "frame=  636 fps=0.0 q=24.8 size=N/A time=00:00:10.60 bitrate=N/A speed=21.1x    \n",
      "frame= 1254 fps=1229 q=24.8 size=N/A time=00:00:20.90 bitrate=N/A speed=20.5x    \n",
      "frame= 1889 fps=1232 q=24.8 size=N/A time=00:00:31.48 bitrate=N/A speed=20.5x    \n",
      "frame= 2463 fps=1202 q=24.8 size=N/A time=00:00:41.05 bitrate=N/A speed=  20x    \n",
      "frame= 3079 fps=1200 q=24.8 size=N/A time=00:00:51.31 bitrate=N/A speed=  20x    \n",
      "frame= 3726 fps=1210 q=24.8 size=N/A time=00:01:02.10 bitrate=N/A speed=20.2x    \n",
      "frame= 4352 fps=1207 q=24.8 size=N/A time=00:01:12.53 bitrate=N/A speed=20.1x    \n",
      "frame= 4962 fps=1205 q=24.8 size=N/A time=00:01:22.68 bitrate=N/A speed=20.1x    \n",
      "frame= 5467 fps=1180 q=24.8 size=N/A time=00:01:31.11 bitrate=N/A speed=19.7x    \n",
      "frame= 5920 fps=1150 q=24.8 size=N/A time=00:01:38.66 bitrate=N/A speed=19.2x    \n",
      "frame= 6402 fps=1130 q=24.8 size=N/A time=00:01:46.70 bitrate=N/A speed=18.8x    \n",
      "frame= 6917 fps=1120 q=24.8 size=N/A time=00:01:55.28 bitrate=N/A speed=18.7x    \n",
      "frame= 7403 fps=1106 q=24.8 size=N/A time=00:02:03.38 bitrate=N/A speed=18.4x    \n",
      "frame= 7986 fps=1107 q=24.8 size=N/A time=00:02:13.10 bitrate=N/A speed=18.5x    \n",
      "frame= 8551 fps=1106 q=24.8 size=N/A time=00:02:22.51 bitrate=N/A speed=18.4x    \n",
      "frame= 9148 fps=1110 q=24.8 size=N/A time=00:02:32.46 bitrate=N/A speed=18.5x    \n",
      "frame= 9805 fps=1120 q=24.8 size=N/A time=00:02:43.41 bitrate=N/A speed=18.7x    \n",
      "frame=10439 fps=1125 q=24.8 size=N/A time=00:02:53.98 bitrate=N/A speed=18.8x    \n",
      "frame=10964 fps=1120 q=24.8 size=N/A time=00:03:02.73 bitrate=N/A speed=18.7x    \n",
      "frame=11465 fps=1112 q=24.8 size=N/A time=00:03:11.08 bitrate=N/A speed=18.5x    \n",
      "frame=11991 fps=1108 q=24.8 size=N/A time=00:03:19.85 bitrate=N/A speed=18.5x    \n",
      "frame=12532 fps=1106 q=24.8 size=N/A time=00:03:28.86 bitrate=N/A speed=18.4x    \n",
      "frame=13131 fps=1108 q=24.8 size=N/A time=00:03:38.85 bitrate=N/A speed=18.5x    \n",
      "frame=13640 fps=1103 q=24.8 size=N/A time=00:03:47.33 bitrate=N/A speed=18.4x    \n",
      "frame=14214 fps=1104 q=24.8 size=N/A time=00:03:56.90 bitrate=N/A speed=18.4x    \n",
      "frame=14814 fps=1106 q=24.8 size=N/A time=00:04:06.90 bitrate=N/A speed=18.4x    \n",
      "frame=15364 fps=1105 q=24.8 size=N/A time=00:04:16.06 bitrate=N/A speed=18.4x    \n",
      "frame=15828 fps=1097 q=24.8 size=N/A time=00:04:23.80 bitrate=N/A speed=18.3x    \n",
      "frame=16299 fps=1091 q=24.8 size=N/A time=00:04:31.65 bitrate=N/A speed=18.2x    \n",
      "frame=16821 fps=1088 q=24.8 size=N/A time=00:04:40.35 bitrate=N/A speed=18.1x    \n",
      "frame=17487 fps=1095 q=24.8 size=N/A time=00:04:51.45 bitrate=N/A speed=18.3x    \n",
      "frame=18182 fps=1103 q=24.8 size=N/A time=00:05:03.13 bitrate=N/A speed=18.4x    \n",
      "frame=18860 fps=1108 q=24.8 size=N/A time=00:05:14.33 bitrate=N/A speed=18.5x    \n",
      "frame=19478 fps=1112 q=24.8 size=N/A time=00:05:24.63 bitrate=N/A speed=18.5x    \n",
      "frame=19972 fps=1107 q=24.8 size=N/A time=00:05:32.86 bitrate=N/A speed=18.5x    \n",
      "frame=20568 fps=1108 q=24.8 size=N/A time=00:05:42.80 bitrate=N/A speed=18.5x    \n",
      "frame=21143 fps=1109 q=24.8 size=N/A time=00:05:52.38 bitrate=N/A speed=18.5x    \n",
      "frame=21733 fps=1110 q=24.8 size=N/A time=00:06:02.21 bitrate=N/A speed=18.5x    \n",
      "frame=22389 fps=1113 q=24.8 size=N/A time=00:06:13.15 bitrate=N/A speed=18.6x    \n",
      "frame=22959 fps=1114 q=24.8 size=N/A time=00:06:22.65 bitrate=N/A speed=18.6x    \n",
      "[out#0/image2 @ 000002abb91b21c0] video:267319KiB audio:0KiB subtitle:0KiB other streams:0KiB global headers:0KiB muxing overhead: unknown\n",
      "frame=23026 fps=1114 q=24.8 Lsize=N/A time=00:06:23.76 bitrate=N/A speed=18.6x    \n"
     ]
    }
   ],
   "source": [
    "!ffmpeg -i \"source/videos/Trúc Nhân - Có Không Giữ Mất Đừng Tìm - Official MV - special guest Miu Lê.mp4\" -vf fps=60 \"source/frames/%06d.jpg\""
   ]
  },
  {
   "cell_type": "markdown",
   "metadata": {},
   "source": [
    "Tách frame xong thì chạy dòng này nữa là có thành quả. Ở đây ghép mấy frames lại thành video 60 fps, kết quả lưu trong **log**, tên là summary.mp4 (chỗ này cũng cần cải tiến nè, muốn đổi tên hay đường dẫn video tóm tắt cũng được)"
   ]
  },
  {
   "cell_type": "code",
   "execution_count": 9,
   "metadata": {},
   "outputs": [
    {
     "name": "stderr",
     "output_type": "stream",
     "text": [
      "OpenCV: FFMPEG: tag 0x5634504d/'MP4V' is not supported with codec id 12 and format 'mp4 / MP4 (MPEG-4 Part 14)'\n",
      "OpenCV: FFMPEG: fallback to use tag 0x7634706d/'mp4v'\n"
     ]
    }
   ],
   "source": [
    "!python summary2video.py -p log/summe-split0/result.h5 -d source/frames -i 0 --fps 60 --save-dir log --save-name summary.mp4 "
   ]
  }
 ],
 "metadata": {
  "kernelspec": {
   "display_name": "Python 3",
   "language": "python",
   "name": "python3"
  },
  "language_info": {
   "codemirror_mode": {
    "name": "ipython",
    "version": 3
   },
   "file_extension": ".py",
   "mimetype": "text/x-python",
   "name": "python",
   "nbconvert_exporter": "python",
   "pygments_lexer": "ipython3",
   "version": "3.10.7"
  }
 },
 "nbformat": 4,
 "nbformat_minor": 2
}
