{
 "cells": [
  {
   "cell_type": "markdown",
   "metadata": {},
   "source": [
    "## Giới thiệu\n",
    "\n",
    "Đây là file hướng dẫn, made by HB, chủ yếu dùng để giúp mọi người có thể chạy lại phần implement cái paper **Deep Reinforcement Learning for Unsupervised Video Summarization with\n",
    "Diversity-Representativeness Reward** một cách dễ dàng nhất.\n",
    "\n",
    "**Note**: Trong repo này có chỉnh sửa, thêm, bớt một vài thứ. Ví dụ như:\n",
    "\n",
    "- Thêm file requirements.txt\n",
    "- Phiên bản gốc yêu cầu **Pytorch (v0.4.0)** và **Python 2.7**. Nhưng ở đây mình chạy **Pytorch (v2.1.1+cu121)** và **Python 3.10.7**, hiện tại vẫn ổn nha.\n",
    "- Mấy file code cũ có thể code theo phiên bản Python cũ hơn, nên nó sẽ bị mắc một số lỗi (VD như print không có đóng mở ngoặc), nên tui cũng có điều chỉnh sương sương lại mấy file code."
   ]
  },
  {
   "cell_type": "markdown",
   "metadata": {},
   "source": [
    "## Bắt đầu chạy"
   ]
  },
  {
   "cell_type": "markdown",
   "metadata": {},
   "source": [
    "### Clone repository"
   ]
  },
  {
   "cell_type": "code",
   "execution_count": 1,
   "metadata": {},
   "outputs": [],
   "source": [
    "#!git clone https://github.com/KaiyangZhou/vsumm-reinforce\n",
    "#%cd vsumm-reinforce"
   ]
  },
  {
   "cell_type": "markdown",
   "metadata": {},
   "source": [
    "### Dataset"
   ]
  },
  {
   "cell_type": "markdown",
   "metadata": {},
   "source": [
    "Do đường link cũ bị chết rồi, nên chịu khó tải thủ công bộ dataset tại [đây](https://drive.google.com/file/d/1Bf0beMN_ieiM3JpprghaoOwQe9QJIyAN/view). Tải xong thì giải nén nó vào thư mục hiện tại, tạo thành folder **datasets**.\n",
    "\n",
    "Bộ dữ liệu tải xong sẽ gồm có 4 file chính.\n",
    "\n",
    "- **eccv16_dataset_summe_google_pool5.h5**: Bộ dữ liệu này được sử dụng trong hội nghị ECCV 2016. Nó chứa các video được tổng hợp từ nhiều nguồn khác nhau. Các video đã được trích xuất tính năng bằng mô hình GoogleNet. Điểm đặc biệt của bộ dữ liệu này là nó bao gồm các điểm quan trọng thực sự, tức là điểm số được gán bởi người dùng để chỉ ra mức độ quan trọng của mỗi khung hình. Ngoài ra, nó còn chứa tóm tắt được cung cấp bởi người dùng và các điểm chuyển đổi.\n",
    "\n",
    "- **eccv16_dataset_tvsum_google_pool5.h5**: Tương tự như bộ dữ liệu SUMMe, bộ dữ liệu này cũng được sử dụng trong ECCV 2016. Nó chứa các video từ TVSum dataset, một tập dữ liệu phổ biến trong lĩnh vực tóm tắt video. Các video đã được trích xuất tính năng bằng mô hình GoogleNet. Bộ dữ liệu cung cấp các điểm quan trọng thực sự, tóm tắt người dùng và các điểm chuyển đổi.\n",
    "\n",
    "- **eccv16_dataset_ovp_google_pool5.h5**: Bộ dữ liệu này chứa các video từ Open Video Project (OVP), một kho tài nguyên video công cộng rất lớn. Các video đã được trích xuất tính năng bằng mô hình GoogleNet. Tương tự như các bộ dữ liệu trước đó, nó cũng cung cấp các điểm quan trọng thực sự.\n",
    "\n",
    "- **eccv16_dataset_youtube_google_pool5.h5**: Bộ dữ liệu này bao gồm các video từ YouTube, một nguồn tài nguyên phong phú với nhiều loại video khác nhau. Các video đã được trích xuất tính năng bằng mô hình GoogleNet và cũng cung cấp các điểm quan trọng thực sự."
   ]
  },
  {
   "cell_type": "markdown",
   "metadata": {},
   "source": [
    "Split dataset"
   ]
  },
  {
   "cell_type": "markdown",
   "metadata": {},
   "source": [
    "python create_split.py -d datasets/eccv16_dataset_summe_google_pool5.h5 --save-dir datasets --save-name summe_splits  --num-splits 5"
   ]
  },
  {
   "cell_type": "markdown",
   "metadata": {},
   "source": [
    "Sau khi chạy lệnh trên, bộ dữ liệu được chia ngẫu nhiên thành 5 phần, được lưu dưới dạng tệp JSON tại *datasets\\summe_splits.json*.\n",
    "\n",
    "Các mã huấn luyện và kiểm tra được viết trong tệp main.py. Để xem các đối số chi tiết, vui lòng chạy lệnh python main.py -h."
   ]
  },
  {
   "cell_type": "markdown",
   "metadata": {},
   "source": [
    "### Cài thư viện"
   ]
  },
  {
   "cell_type": "markdown",
   "metadata": {},
   "source": [
    "!pip install -r requirements.txt"
   ]
  },
  {
   "cell_type": "markdown",
   "metadata": {},
   "source": [
    "### Train"
   ]
  },
  {
   "cell_type": "markdown",
   "metadata": {},
   "source": [
    "Ở đây train trên bộ **eccv16_dataset_summe_google_pool5.h5** với **60 epochs**, xong nó sẽ lưu vô **log/summe-split0**.\n",
    "\n",
    "**Note**: Ở đây tui train sẵn rồi nên có file check point là **log_train.txt**, **model_epoch60.pth.tar** và **rewards.json**"
   ]
  },
  {
   "cell_type": "markdown",
   "metadata": {},
   "source": [
    "Tạo splits"
   ]
  },
  {
   "cell_type": "code",
   "execution_count": 2,
   "metadata": {},
   "outputs": [
    {
     "name": "stdout",
     "output_type": "stream",
     "text": [
      "==========\n",
      "Args:Namespace(dataset='datasets/eccv16_dataset_summe_google_pool5.h5', save_dir='datasets', save_name='summe_splits', num_splits=5, train_percent=0.8)\n",
      "==========\n",
      "Goal: randomly split data for 5 times, 80.0% for training and the rest for testing\n",
      "Loading dataset from datasets/eccv16_dataset_summe_google_pool5.h5\n",
      "Split breakdown: # total videos 25. # train videos 20. # test videos 5\n",
      "Splits saved to datasets\\summe_splits.json\n"
     ]
    }
   ],
   "source": [
    "!python create_split.py -d datasets/eccv16_dataset_summe_google_pool5.h5 --save-dir datasets --save-name summe_splits  --num-splits 5"
   ]
  },
  {
   "cell_type": "code",
   "execution_count": 3,
   "metadata": {},
   "outputs": [
    {
     "name": "stdout",
     "output_type": "stream",
     "text": [
      "==========\n",
      "Args:Namespace(dataset='datasets/eccv16_dataset_summe_google_pool5.h5', split='datasets/summe_splits.json', split_id=0, metric='summe', input_dim=1024, hidden_dim=256, num_layers=1, rnn_cell='lstm', lr=1e-05, weight_decay=1e-05, max_epoch=60, stepsize=30, gamma=0.1, num_episode=5, beta=0.01, seed=1, gpu='0', use_cpu=False, evaluate=False, save_dir='log/summe-split0', resume='', verbose=True, save_results=False)\n",
      "==========\n",
      "Currently using GPU 0\n",
      "Initialize dataset datasets/eccv16_dataset_summe_google_pool5.h5\n",
      "# total videos 25. # train videos 20. # test videos 5\n",
      "Initialize model\n",
      "Model size: 2.62605M\n",
      "==> Start training\n",
      "epoch 1/60\t reward 0.8999338012933732\t\n",
      "epoch 2/60\t reward 0.8990769940614701\t\n",
      "epoch 3/60\t reward 0.8998247164487838\t\n",
      "epoch 4/60\t reward 0.899953152537346\t\n",
      "epoch 5/60\t reward 0.9003273111581802\t\n",
      "epoch 6/60\t reward 0.9003127115964888\t\n",
      "epoch 7/60\t reward 0.8995432835817339\t\n",
      "epoch 8/60\t reward 0.9001252627372741\t\n",
      "epoch 9/60\t reward 0.8999461680650713\t\n",
      "epoch 10/60\t reward 0.8994555342197419\t\n",
      "epoch 11/60\t reward 0.8991458207368852\t\n",
      "epoch 12/60\t reward 0.8995981460809709\t\n",
      "epoch 13/60\t reward 0.8995169293880462\t\n",
      "epoch 14/60\t reward 0.9001953178644181\t\n",
      "epoch 15/60\t reward 0.8999135881662369\t\n",
      "epoch 16/60\t reward 0.8989210772514342\t\n",
      "epoch 17/60\t reward 0.8998955404758451\t\n",
      "epoch 18/60\t reward 0.9002675783634185\t\n",
      "epoch 19/60\t reward 0.8989657431840896\t\n",
      "epoch 20/60\t reward 0.8998379987478258\t\n",
      "epoch 21/60\t reward 0.8993148636817934\t\n",
      "epoch 22/60\t reward 0.9005264055728913\t\n",
      "epoch 23/60\t reward 0.8997751045227049\t\n",
      "epoch 24/60\t reward 0.8991244983673095\t\n",
      "epoch 25/60\t reward 0.8994300669431686\t\n",
      "epoch 26/60\t reward 0.8999935764074325\t\n",
      "epoch 27/60\t reward 0.9006319916248321\t\n",
      "epoch 28/60\t reward 0.8993000572919845\t\n",
      "epoch 29/60\t reward 0.9000757509469987\t\n",
      "epoch 30/60\t reward 0.8995887935161591\t\n",
      "epoch 31/60\t reward 0.8997763770818711\t\n",
      "epoch 32/60\t reward 0.9009342521429062\t\n",
      "epoch 33/60\t reward 0.899496790766716\t\n",
      "epoch 34/60\t reward 0.9001355487108231\t\n",
      "epoch 35/60\t reward 0.8996469449996948\t\n",
      "epoch 36/60\t reward 0.9000889545679094\t\n",
      "epoch 37/60\t reward 0.9009323966503142\t\n",
      "epoch 38/60\t reward 0.8995666486024858\t\n",
      "epoch 39/60\t reward 0.8997097486257554\t\n",
      "epoch 40/60\t reward 0.899590529203415\t\n",
      "epoch 41/60\t reward 0.8995797455310821\t\n",
      "epoch 42/60\t reward 0.9007428640127182\t\n",
      "epoch 43/60\t reward 0.9000951695442201\t\n",
      "epoch 44/60\t reward 0.9009099471569062\t\n",
      "epoch 45/60\t reward 0.8996213322877882\t\n",
      "epoch 46/60\t reward 0.900835980772972\t\n",
      "epoch 47/60\t reward 0.9005142170190812\t\n",
      "epoch 48/60\t reward 0.9002310007810591\t\n",
      "epoch 49/60\t reward 0.8999502658843994\t\n",
      "epoch 50/60\t reward 0.899851651787758\t\n",
      "epoch 51/60\t reward 0.9000925076007844\t\n",
      "epoch 52/60\t reward 0.8994122576713564\t\n",
      "epoch 53/60\t reward 0.8997446018457413\t\n",
      "epoch 54/60\t reward 0.9004194611310959\t\n",
      "epoch 55/60\t reward 0.901301308274269\t\n",
      "epoch 56/60\t reward 0.9005047708749773\t\n",
      "epoch 57/60\t reward 0.9006689327955245\t\n",
      "epoch 58/60\t reward 0.8995748525857925\t\n",
      "epoch 59/60\t reward 0.9004804998636246\t\n",
      "epoch 60/60\t reward 0.9001164531707764\t\n",
      "==> Test\n",
      "---  --------  -------\n",
      "No.  Video     F-score\n",
      "1    video_12  0.0%\n",
      "2    video_15  55.1%\n",
      "3    video_19  28.6%\n",
      "4    video_6   21.0%\n",
      "5    video_8   49.4%\n",
      "---  --------  -------\n",
      "Average F-score 30.8%\n",
      "Finished. Total elapsed time (h:m:s): 0:00:30\n",
      "Model saved to log/summe-split0\\model_epoch60.pth.tar\n"
     ]
    }
   ],
   "source": [
    "!python main.py -d datasets/eccv16_dataset_summe_google_pool5.h5 -s datasets/summe_splits.json -m summe --gpu 0 --save-dir log/summe-split0 --split-id 0 --verbose"
   ]
  },
  {
   "cell_type": "markdown",
   "metadata": {},
   "source": [
    "Sau khi train thì những kết quả nhận được sẽ nằm trong thư mục **log**"
   ]
  },
  {
   "cell_type": "markdown",
   "metadata": {},
   "source": [
    "### Test"
   ]
  },
  {
   "cell_type": "markdown",
   "metadata": {},
   "source": [
    "Train xong thì phải test (trên cùng bộ eccv16_dataset_summe_google_pool5.h5 nhe, hoặc lấy bộ khác cũng được). \n",
    "Note: Nếu thâm số **--save-results** được bật, kết quả đầu ra sẽ được lưu vào tệp **results.h5** trong cùng thư mục được chỉ định bởi **--save-dir**.\n",
    "\n",
    "Xong thì nó ra thêm cái file **log_test.txt** và **result.h5**"
   ]
  },
  {
   "cell_type": "code",
   "execution_count": 4,
   "metadata": {},
   "outputs": [
    {
     "name": "stdout",
     "output_type": "stream",
     "text": [
      "==========\n",
      "Args:Namespace(dataset='datasets/eccv16_dataset_summe_google_pool5.h5', split='datasets/summe_splits.json', split_id=0, metric='summe', input_dim=1024, hidden_dim=256, num_layers=1, rnn_cell='lstm', lr=1e-05, weight_decay=1e-05, max_epoch=60, stepsize=30, gamma=0.1, num_episode=5, beta=0.01, seed=1, gpu='0', use_cpu=False, evaluate=True, save_dir='log/summe-split0', resume='log/summe-split0/model_epoch60.pth.tar', verbose=True, save_results=True)\n",
      "==========\n",
      "Currently using GPU 0\n",
      "Initialize dataset datasets/eccv16_dataset_summe_google_pool5.h5\n",
      "# total videos 25. # train videos 20. # test videos 5\n",
      "Initialize model\n",
      "Model size: 2.62605M\n",
      "Loading checkpoint from 'log/summe-split0/model_epoch60.pth.tar'\n",
      "Evaluate only\n",
      "==> Test\n",
      "---  --------  -------\n",
      "No.  Video     F-score\n",
      "1    video_12  0.0%\n",
      "2    video_15  55.1%\n",
      "3    video_19  28.6%\n",
      "4    video_6   21.0%\n",
      "5    video_8   49.4%\n",
      "---  --------  -------\n",
      "Average F-score 30.8%\n"
     ]
    }
   ],
   "source": [
    "!python main.py -d datasets/eccv16_dataset_summe_google_pool5.h5 -s datasets/summe_splits.json -m summe --gpu 0 --save-dir log/summe-split0 --split-id 0 --evaluate --resume log/summe-split0/model_epoch60.pth.tar --verbose --save-results"
   ]
  },
  {
   "cell_type": "markdown",
   "metadata": {},
   "source": [
    " Để hiển thị score-vs-gtscore, thực hiện:"
   ]
  },
  {
   "cell_type": "code",
   "execution_count": 5,
   "metadata": {},
   "outputs": [
    {
     "name": "stdout",
     "output_type": "stream",
     "text": [
      "Done video video_12. # frames 950.\n",
      "Done video video_15. # frames 6096.\n",
      "Done video video_19. # frames 1751.\n",
      "Done video video_6. # frames 5075.\n",
      "Done video video_8. # frames 1286.\n"
     ]
    }
   ],
   "source": [
    "!python visualize_results.py -p log/summe-split0/result.h5"
   ]
  },
  {
   "cell_type": "markdown",
   "metadata": {},
   "source": [
    "### Plot"
   ]
  },
  {
   "cell_type": "markdown",
   "metadata": {},
   "source": [
    "Code dưới dùng để plot những reward nhận được tại mỗi epoch. Sử dụng **parse_log.py** để plot các average rewards. Kết quả vẫn lưu chung chỗ với **log_train.txt**"
   ]
  },
  {
   "cell_type": "code",
   "execution_count": 6,
   "metadata": {},
   "outputs": [],
   "source": [
    "!python parse_log.py -p log/summe-split0/log_train.txt"
   ]
  },
  {
   "cell_type": "markdown",
   "metadata": {},
   "source": [
    "Nếu bạn muốn plot epoch-reward curve theo epoch cho một số video cụ thể (sửa số cuối), thực hiện:"
   ]
  },
  {
   "cell_type": "code",
   "execution_count": 7,
   "metadata": {},
   "outputs": [],
   "source": [
    "!python parse_json.py -p log/summe-split0/rewards.json -i 0"
   ]
  },
  {
   "cell_type": "markdown",
   "metadata": {},
   "source": [
    "**Note**: Nếu bạn muốn plot epoch-reward curve theo epoch cho tất cả các video huấn luyện, thử với **parse_json.sh**. Sửa lại code tùy nhu cầu."
   ]
  },
  {
   "cell_type": "markdown",
   "metadata": {},
   "source": [
    "### Visualize summary"
   ]
  },
  {
   "cell_type": "markdown",
   "metadata": {},
   "source": [
    "Để thực hiện mấy cái này thì mình cần một công cụ hỗ trợ mới, gọi là **ffmpeg**. Đây là công cụ chuyên dùng để tách video thành frames.\n",
    "\n",
    "Để tải cái này thì vào đường link này: https://www.gyan.dev/ffmpeg/builds/ffmpeg-git-full.7z (nhấn vô tự tải). Khi xong thì giải nén rồi thêm đường dẫn **path_to_ffmpeg\\bin** vào system environment variable path."
   ]
  },
  {
   "cell_type": "markdown",
   "metadata": {},
   "source": [
    "Sau khi xong xuôi thì chạy dòng dưới này, ở đây tui tách một MV của anh Trúc Nhân thành các frame dưới dạng jpg, videos lưu trong **source/videos** thành các frames dưới dạng jpg, tên được đánh số từ **000001.jpg** tăng dần đến hết, lưu trong **source/frames**.\n",
    "\n",
    "**Note**: Hiện tại do số lượng frames quá lớn (cỡ 20000+) nên mọi người tự chạy lại dòng dưới để test nha. Do frames chỉ có một thư mục duy nhất (chưa chia nhỏ) nên mỗi lần chạy video mới mọi người chịu khó xóa hết frames cũ nhe, hay cải tiến cũng được."
   ]
  },
  {
   "cell_type": "code",
   "execution_count": 8,
   "metadata": {},
   "outputs": [
    {
     "name": "stderr",
     "output_type": "stream",
     "text": [
      "ffmpeg version 2022-03-28-git-5ee198f9aa-essentials_build-www.gyan.dev Copyright (c) 2000-2022 the FFmpeg developers\n",
      "  built with gcc 11.2.0 (Rev7, Built by MSYS2 project)\n",
      "  configuration: --enable-gpl --enable-version3 --enable-static --disable-w32threads --disable-autodetect --enable-fontconfig --enable-iconv --enable-gnutls --enable-libxml2 --enable-gmp --enable-bzlib --enable-lzma --enable-zlib --enable-libsrt --enable-libssh --enable-libzmq --enable-avisynth --enable-sdl2 --enable-libwebp --enable-libx264 --enable-libx265 --enable-libxvid --enable-libaom --enable-libopenjpeg --enable-libvpx --enable-mediafoundation --enable-libass --enable-libfreetype --enable-libfribidi --enable-libvidstab --enable-libvmaf --enable-libzimg --enable-amf --enable-cuda-llvm --enable-cuvid --enable-ffnvcodec --enable-nvdec --enable-nvenc --enable-d3d11va --enable-dxva2 --enable-libmfx --enable-libgme --enable-libopenmpt --enable-libopencore-amrwb --enable-libmp3lame --enable-libtheora --enable-libvo-amrwbenc --enable-libgsm --enable-libopencore-amrnb --enable-libopus --enable-libspeex --enable-libvorbis --enable-librubberband\n",
      "  libavutil      57. 24.101 / 57. 24.101\n",
      "  libavcodec     59. 25.100 / 59. 25.100\n",
      "  libavformat    59. 20.101 / 59. 20.101\n",
      "  libavdevice    59.  6.100 / 59.  6.100\n",
      "  libavfilter     8. 29.100 /  8. 29.100\n",
      "  libswscale      6.  6.100 /  6.  6.100\n",
      "  libswresample   4.  6.100 /  4.  6.100\n",
      "  libpostproc    56.  5.100 / 56.  5.100\n",
      "Input #0, mov,mp4,m4a,3gp,3g2,mj2, from 'source/videos/Trúc Nhân - Có Không Giữ Mất Đừng Tìm - Official MV - special guest Miu Lê.mp4':\n",
      "  Metadata:\n",
      "    major_brand     : isom\n",
      "    minor_version   : 512\n",
      "    compatible_brands: isomiso2avc1mp41\n",
      "    encoder         : Lavf60.20.100\n",
      "  Duration: 00:06:23.83, start: 0.000000, bitrate: 753 kb/s\n",
      "  Stream #0:0[0x1](und): Video: h264 (Main) (avc1 / 0x31637661), yuv420p(tv, bt709, progressive), 854x480 [SAR 1:1 DAR 427:240], 618 kb/s, 25 fps, 25 tbr, 12800 tbn (default)\n",
      "    Metadata:\n",
      "      handler_name    : VideoHandler\n",
      "      vendor_id       : [0][0][0][0]\n",
      "  Stream #0:1[0x2](eng): Audio: aac (LC) (mp4a / 0x6134706D), 44100 Hz, stereo, fltp, 127 kb/s (default)\n",
      "    Metadata:\n",
      "      handler_name    : ISO Media file produced by Google Inc.\n",
      "      vendor_id       : [0][0][0][0]\n",
      "Stream mapping:\n",
      "  Stream #0:0 -> #0:0 (h264 (native) -> mjpeg (native))\n",
      "Press [q] to stop, [?] for help\n",
      "[swscaler @ 0000022a38880800] [swscaler @ 0000022a3888dac0] deprecated pixel format used, make sure you did set range correctly\n",
      "[swscaler @ 0000022a38880800] [swscaler @ 0000022a388b2440] deprecated pixel format used, make sure you did set range correctly\n",
      "[swscaler @ 0000022a38880800] [swscaler @ 0000022a388e7b80] deprecated pixel format used, make sure you did set range correctly\n",
      "[swscaler @ 0000022a38880800] [swscaler @ 0000022a38910b00] deprecated pixel format used, make sure you did set range correctly\n",
      "[swscaler @ 0000022a38880800] [swscaler @ 0000022a38949d40] deprecated pixel format used, make sure you did set range correctly\n",
      "[swscaler @ 0000022a38880800] [swscaler @ 0000022a38967e80] deprecated pixel format used, make sure you did set range correctly\n",
      "[swscaler @ 0000022a38880800] [swscaler @ 0000022a389870c0] deprecated pixel format used, make sure you did set range correctly\n",
      "[swscaler @ 0000022a38880800] [swscaler @ 0000022a389cac80] deprecated pixel format used, make sure you did set range correctly\n",
      "[swscaler @ 0000022a38880800] [swscaler @ 0000022a389e9fc0] deprecated pixel format used, make sure you did set range correctly\n",
      "[swscaler @ 0000022a38880800] [swscaler @ 0000022a38a0bd80] deprecated pixel format used, make sure you did set range correctly\n",
      "[swscaler @ 0000022a38880800] [swscaler @ 0000022a38a215c0] deprecated pixel format used, make sure you did set range correctly\n",
      "[swscaler @ 0000022a38880800] [swscaler @ 0000022a38a58e00] deprecated pixel format used, make sure you did set range correctly\n",
      "[swscaler @ 0000022a38880800] [swscaler @ 0000022a38a88640] deprecated pixel format used, make sure you did set range correctly\n",
      "[swscaler @ 0000022a38880800] [swscaler @ 0000022a388ebcc0] deprecated pixel format used, make sure you did set range correctly\n",
      "[swscaler @ 0000022a38880800] [swscaler @ 0000022a38a588c0] deprecated pixel format used, make sure you did set range correctly\n",
      "[swscaler @ 0000022a38880800] [swscaler @ 0000022a38a88640] deprecated pixel format used, make sure you did set range correctly\n",
      "[swscaler @ 0000022a38880800] [swscaler @ 0000022a38a1b240] deprecated pixel format used, make sure you did set range correctly\n",
      "[swscaler @ 0000022a38880800] [swscaler @ 0000022a389b0900] deprecated pixel format used, make sure you did set range correctly\n",
      "[swscaler @ 0000022a38880800] [swscaler @ 0000022a389dd900] deprecated pixel format used, make sure you did set range correctly\n",
      "[swscaler @ 0000022a38880800] [swscaler @ 0000022a389ea8c0] deprecated pixel format used, make sure you did set range correctly\n",
      "[swscaler @ 0000022a38880800] [swscaler @ 0000022a3892f400] deprecated pixel format used, make sure you did set range correctly\n",
      "[swscaler @ 0000022a38880800] [swscaler @ 0000022a38954400] deprecated pixel format used, make sure you did set range correctly\n",
      "[swscaler @ 0000022a38880800] [swscaler @ 0000022a3897af00] deprecated pixel format used, make sure you did set range correctly\n",
      "[swscaler @ 0000022a38880800] [swscaler @ 0000022a38b22800] deprecated pixel format used, make sure you did set range correctly\n",
      "[swscaler @ 0000022a38880800] [swscaler @ 0000022a38b40400] deprecated pixel format used, make sure you did set range correctly\n",
      "[swscaler @ 0000022a38880800] [swscaler @ 0000022a38b4f000] deprecated pixel format used, make sure you did set range correctly\n",
      "[swscaler @ 0000022a38880800] [swscaler @ 0000022a388ebcc0] deprecated pixel format used, make sure you did set range correctly\n",
      "[swscaler @ 0000022a38880800] [swscaler @ 0000022a388fa0c0] deprecated pixel format used, make sure you did set range correctly\n",
      "[swscaler @ 0000022a38880800] [swscaler @ 0000022a38b40400] deprecated pixel format used, make sure you did set range correctly\n",
      "[swscaler @ 0000022a38880800] [swscaler @ 0000022a38b4d400] deprecated pixel format used, make sure you did set range correctly\n",
      "[swscaler @ 0000022a38880800] [swscaler @ 0000022a3890f400] deprecated pixel format used, make sure you did set range correctly\n",
      "[swscaler @ 0000022a38880800] [swscaler @ 0000022a38b11600] deprecated pixel format used, make sure you did set range correctly\n",
      "[swscaler @ 0000022a38880800] [swscaler @ 0000022a38b1e5c0] deprecated pixel format used, make sure you did set range correctly\n",
      "[swscaler @ 0000022a38880800] [swscaler @ 0000022a38964400] deprecated pixel format used, make sure you did set range correctly\n",
      "[swscaler @ 0000022a38880800] [swscaler @ 0000022a38981400] deprecated pixel format used, make sure you did set range correctly\n",
      "[swscaler @ 0000022a38880800] [swscaler @ 0000022a38a58180] deprecated pixel format used, make sure you did set range correctly\n",
      "[swscaler @ 0000022a38880800] [swscaler @ 0000022a38a85180] deprecated pixel format used, make sure you did set range correctly\n",
      "[swscaler @ 0000022a38880800] [swscaler @ 0000022a389b0900] deprecated pixel format used, make sure you did set range correctly\n",
      "[swscaler @ 0000022a38880800] [swscaler @ 0000022a389bd900] deprecated pixel format used, make sure you did set range correctly\n",
      "[swscaler @ 0000022a38880800] [swscaler @ 0000022a388fa0c0] deprecated pixel format used, make sure you did set range correctly\n",
      "[swscaler @ 0000022a38880800] [swscaler @ 0000022a388ebcc0] deprecated pixel format used, make sure you did set range correctly\n",
      "[swscaler @ 0000022a38880800] [swscaler @ 0000022a389b0900] deprecated pixel format used, make sure you did set range correctly\n",
      "[swscaler @ 0000022a38880800] [swscaler @ 0000022a389bd900] deprecated pixel format used, make sure you did set range correctly\n",
      "[swscaler @ 0000022a38880800] [swscaler @ 0000022a38a40180] deprecated pixel format used, make sure you did set range correctly\n",
      "[swscaler @ 0000022a38880800] [swscaler @ 0000022a38a6d140] deprecated pixel format used, make sure you did set range correctly\n",
      "[swscaler @ 0000022a38880800] [swscaler @ 0000022a38a7a140] deprecated pixel format used, make sure you did set range correctly\n",
      "[swscaler @ 0000022a38880800] [swscaler @ 0000022a3891f400] deprecated pixel format used, make sure you did set range correctly\n",
      "[swscaler @ 0000022a38880800] [swscaler @ 0000022a38945f00] deprecated pixel format used, make sure you did set range correctly\n",
      "[swscaler @ 0000022a38880800] [swscaler @ 0000022a3896ca00] deprecated pixel format used, make sure you did set range correctly\n",
      "[swscaler @ 0000022a38880800] [swscaler @ 0000022a38b11600] deprecated pixel format used, make sure you did set range correctly\n",
      "[swscaler @ 0000022a38880800] [swscaler @ 0000022a38b2e600] deprecated pixel format used, make sure you did set range correctly\n",
      "[swscaler @ 0000022a38880800] [swscaler @ 0000022a38b3b5c0] deprecated pixel format used, make sure you did set range correctly\n",
      "Output #0, image2, to 'source/frames/%06d.jpg':\n",
      "  Metadata:\n",
      "    major_brand     : isom\n",
      "    minor_version   : 512\n",
      "    compatible_brands: isomiso2avc1mp41\n",
      "    encoder         : Lavf59.20.101\n",
      "  Stream #0:0(und): Video: mjpeg, yuvj420p(pc, bt709, progressive), 854x480 [SAR 1:1 DAR 427:240], q=2-31, 200 kb/s, 60 fps, 60 tbn (default)\n",
      "    Metadata:\n",
      "      handler_name    : VideoHandler\n",
      "      vendor_id       : [0][0][0][0]\n",
      "      encoder         : Lavc59.25.100 mjpeg\n",
      "    Side data:\n",
      "      cpb: bitrate max/min/avg: 0/0/200000 buffer size: 0 vbv_delay: N/A\n",
      "frame=    1 fps=0.0 q=1.6 size=N/A time=00:00:00.01 bitrate=N/A speed= 1.6x    \n",
      "frame=  407 fps=0.0 q=24.8 size=N/A time=00:00:06.78 bitrate=N/A speed=13.3x    \n",
      "frame=  764 fps=755 q=24.8 size=N/A time=00:00:12.73 bitrate=N/A speed=12.6x    \n",
      "frame= 1121 fps=741 q=24.8 size=N/A time=00:00:18.68 bitrate=N/A speed=12.3x    \n",
      "frame= 1423 fps=706 q=24.8 size=N/A time=00:00:23.71 bitrate=N/A speed=11.8x    \n",
      "frame= 1814 fps=721 q=24.8 size=N/A time=00:00:30.23 bitrate=N/A speed=  12x    \n",
      "frame= 2180 fps=723 q=24.8 size=N/A time=00:00:36.33 bitrate=N/A speed=  12x    \n",
      "frame= 2554 fps=726 q=24.8 size=N/A time=00:00:42.56 bitrate=N/A speed=12.1x    \n",
      "frame= 2934 fps=730 q=24.8 size=N/A time=00:00:48.90 bitrate=N/A speed=12.2x    \n",
      "frame= 3331 fps=737 q=24.8 size=N/A time=00:00:55.51 bitrate=N/A speed=12.3x    \n",
      "frame= 3705 fps=738 q=24.8 size=N/A time=00:01:01.75 bitrate=N/A speed=12.3x    \n",
      "frame= 4080 fps=739 q=24.8 size=N/A time=00:01:08.00 bitrate=N/A speed=12.3x    \n",
      "frame= 4387 fps=729 q=24.8 size=N/A time=00:01:13.11 bitrate=N/A speed=12.1x    \n",
      "frame= 4760 fps=730 q=24.8 size=N/A time=00:01:19.33 bitrate=N/A speed=12.2x    \n",
      "frame= 5119 fps=729 q=24.8 size=N/A time=00:01:25.31 bitrate=N/A speed=12.1x    \n",
      "frame= 5436 fps=723 q=24.8 size=N/A time=00:01:30.60 bitrate=N/A speed=  12x    \n",
      "frame= 5713 fps=712 q=24.8 size=N/A time=00:01:35.21 bitrate=N/A speed=11.9x    \n",
      "frame= 5981 fps=701 q=24.8 size=N/A time=00:01:39.68 bitrate=N/A speed=11.7x    \n",
      "frame= 6257 fps=693 q=24.8 size=N/A time=00:01:44.28 bitrate=N/A speed=11.6x    \n",
      "frame= 6512 fps=684 q=24.8 size=N/A time=00:01:48.53 bitrate=N/A speed=11.4x    \n",
      "frame= 6739 fps=672 q=24.8 size=N/A time=00:01:52.31 bitrate=N/A speed=11.2x    \n",
      "frame= 6992 fps=664 q=24.8 size=N/A time=00:01:56.53 bitrate=N/A speed=11.1x    \n",
      "frame= 7250 fps=657 q=24.8 size=N/A time=00:02:00.83 bitrate=N/A speed=  11x    \n",
      "frame= 7550 fps=655 q=24.8 size=N/A time=00:02:05.83 bitrate=N/A speed=10.9x    \n",
      "frame= 7853 fps=653 q=24.8 size=N/A time=00:02:10.88 bitrate=N/A speed=10.9x    \n",
      "frame= 8158 fps=651 q=24.8 size=N/A time=00:02:15.96 bitrate=N/A speed=10.8x    \n",
      "frame= 8454 fps=648 q=24.8 size=N/A time=00:02:20.90 bitrate=N/A speed=10.8x    \n",
      "frame= 8739 fps=646 q=24.8 size=N/A time=00:02:25.65 bitrate=N/A speed=10.8x    \n",
      "frame= 9011 fps=642 q=24.8 size=N/A time=00:02:30.18 bitrate=N/A speed=10.7x    \n",
      "frame= 9352 fps=643 q=24.8 size=N/A time=00:02:35.86 bitrate=N/A speed=10.7x    \n",
      "frame= 9704 fps=645 q=24.8 size=N/A time=00:02:41.73 bitrate=N/A speed=10.8x    \n",
      "frame=10046 fps=646 q=24.8 size=N/A time=00:02:47.43 bitrate=N/A speed=10.8x    \n",
      "frame=10399 fps=648 q=24.8 size=N/A time=00:02:53.31 bitrate=N/A speed=10.8x    \n",
      "frame=10734 fps=649 q=24.8 size=N/A time=00:02:58.90 bitrate=N/A speed=10.8x    \n",
      "frame=11037 fps=648 q=24.8 size=N/A time=00:03:03.95 bitrate=N/A speed=10.8x    \n",
      "frame=11322 fps=645 q=24.8 size=N/A time=00:03:08.70 bitrate=N/A speed=10.8x    \n",
      "frame=11628 fps=644 q=24.8 size=N/A time=00:03:13.80 bitrate=N/A speed=10.7x    \n",
      "frame=11932 fps=643 q=24.8 size=N/A time=00:03:18.86 bitrate=N/A speed=10.7x    \n",
      "frame=12255 fps=643 q=24.8 size=N/A time=00:03:24.25 bitrate=N/A speed=10.7x    \n",
      "frame=12588 fps=644 q=24.8 size=N/A time=00:03:29.80 bitrate=N/A speed=10.7x    \n",
      "frame=12934 fps=645 q=24.8 size=N/A time=00:03:35.56 bitrate=N/A speed=10.8x    \n",
      "frame=13258 fps=645 q=24.8 size=N/A time=00:03:40.96 bitrate=N/A speed=10.8x    \n",
      "frame=13562 fps=644 q=24.8 size=N/A time=00:03:46.03 bitrate=N/A speed=10.7x    \n",
      "frame=13848 fps=643 q=24.8 size=N/A time=00:03:50.80 bitrate=N/A speed=10.7x    \n",
      "frame=14147 fps=642 q=24.8 size=N/A time=00:03:55.78 bitrate=N/A speed=10.7x    \n",
      "frame=14452 fps=641 q=24.8 size=N/A time=00:04:00.86 bitrate=N/A speed=10.7x    \n",
      "frame=14761 fps=640 q=24.8 size=N/A time=00:04:06.01 bitrate=N/A speed=10.7x    \n",
      "frame=15066 fps=640 q=24.8 size=N/A time=00:04:11.10 bitrate=N/A speed=10.7x    \n",
      "frame=15393 fps=640 q=24.8 size=N/A time=00:04:16.55 bitrate=N/A speed=10.7x    \n",
      "frame=15751 fps=641 q=24.8 size=N/A time=00:04:22.51 bitrate=N/A speed=10.7x    \n",
      "frame=16100 fps=643 q=24.8 size=N/A time=00:04:28.33 bitrate=N/A speed=10.7x    \n",
      "frame=16430 fps=643 q=24.8 size=N/A time=00:04:33.83 bitrate=N/A speed=10.7x    \n",
      "frame=16817 fps=645 q=24.8 size=N/A time=00:04:40.28 bitrate=N/A speed=10.8x    \n",
      "frame=17236 fps=649 q=24.8 size=N/A time=00:04:47.26 bitrate=N/A speed=10.8x    \n",
      "frame=17662 fps=653 q=24.8 size=N/A time=00:04:54.36 bitrate=N/A speed=10.9x    \n",
      "frame=18092 fps=656 q=24.8 size=N/A time=00:05:01.53 bitrate=N/A speed=10.9x    \n",
      "frame=18526 fps=660 q=24.8 size=N/A time=00:05:08.76 bitrate=N/A speed=  11x    \n",
      "frame=18950 fps=663 q=24.8 size=N/A time=00:05:15.83 bitrate=N/A speed=11.1x    \n",
      "frame=19381 fps=667 q=24.8 size=N/A time=00:05:23.01 bitrate=N/A speed=11.1x    \n",
      "frame=19653 fps=665 q=24.8 size=N/A time=00:05:27.55 bitrate=N/A speed=11.1x    \n",
      "frame=19936 fps=663 q=24.8 size=N/A time=00:05:32.26 bitrate=N/A speed=11.1x    \n",
      "frame=20246 fps=662 q=24.8 size=N/A time=00:05:37.43 bitrate=N/A speed=  11x    \n",
      "frame=20570 fps=662 q=24.8 size=N/A time=00:05:42.83 bitrate=N/A speed=  11x    \n",
      "frame=20917 fps=663 q=24.8 size=N/A time=00:05:48.61 bitrate=N/A speed=  11x    \n",
      "frame=21283 fps=664 q=24.8 size=N/A time=00:05:54.71 bitrate=N/A speed=11.1x    \n",
      "frame=21614 fps=664 q=24.8 size=N/A time=00:06:00.23 bitrate=N/A speed=11.1x    \n",
      "frame=21981 fps=665 q=24.8 size=N/A time=00:06:06.35 bitrate=N/A speed=11.1x    \n",
      "frame=22322 fps=665 q=24.8 size=N/A time=00:06:12.03 bitrate=N/A speed=11.1x    \n",
      "frame=22643 fps=665 q=24.8 size=N/A time=00:06:17.38 bitrate=N/A speed=11.1x    \n",
      "frame=22944 fps=664 q=24.8 size=N/A time=00:06:22.40 bitrate=N/A speed=11.1x    \n",
      "frame=23026 fps=664 q=24.8 Lsize=N/A time=00:06:23.76 bitrate=N/A speed=11.1x    \n",
      "video:267342kB audio:0kB subtitle:0kB other streams:0kB global headers:0kB muxing overhead: unknown\n"
     ]
    }
   ],
   "source": [
    "!mkdir -p source/frames\n",
    "!ffmpeg -i \"source/videos/Trúc Nhân - Có Không Giữ Mất Đừng Tìm - Official MV - special guest Miu Lê.mp4\" -vf fps=60 \"source/frames/%06d.jpg\""
   ]
  },
  {
   "cell_type": "markdown",
   "metadata": {},
   "source": [
    "Tách frame xong thì chạy dòng này nữa là có thành quả. Ở đây ghép mấy frames lại thành video 60 fps, kết quả lưu trong **log**, tên là summary.mp4 (chỗ này cũng cần cải tiến nè, muốn đổi tên hay đường dẫn video tóm tắt cũng được)"
   ]
  },
  {
   "cell_type": "code",
   "execution_count": 9,
   "metadata": {},
   "outputs": [],
   "source": [
    "!python summary2video.py -p log/summe-split0/result.h5 -d source/frames -i 0 --fps 60 --save-dir log --save-name summary.mp4 "
   ]
  },
  {
   "cell_type": "code",
   "execution_count": null,
   "metadata": {},
   "outputs": [],
   "source": []
  }
 ],
 "metadata": {
  "kernelspec": {
   "display_name": "Python 3",
   "language": "python",
   "name": "python3"
  },
  "language_info": {
   "codemirror_mode": {
    "name": "ipython",
    "version": 3
   },
   "file_extension": ".py",
   "mimetype": "text/x-python",
   "name": "python",
   "nbconvert_exporter": "python",
   "pygments_lexer": "ipython3",
   "version": "3.11.5"
  }
 },
 "nbformat": 4,
 "nbformat_minor": 2
}
